{
 "cells": [
  {
   "cell_type": "code",
   "execution_count": 6,
   "metadata": {},
   "outputs": [
    {
     "name": "stdout",
     "output_type": "stream",
     "text": [
      "Susan now lives in Washington\n",
      "   and makes $105000.0\n",
      "Ellen now lives in Texas\n",
      "   and makes $78750.0\n"
     ]
    }
   ],
   "source": [
    "SALARY_RAISE_FACTOR = 0.05\n",
    "STATE_CODE_MAP = {'WA': 'Washington', 'TX': 'Texas'}\n",
    "def update_employee_record(rec):\n",
    "    old_sal = rec['salary']\n",
    "    new_sal = old_sal * (1 + SALARY_RAISE_FACTOR)\n",
    "    rec['salary'] = new_sal\n",
    "    state_code = rec['state_code']\n",
    "    rec['state_name'] = STATE_CODE_MAP[state_code]\n",
    "input_data = [\n",
    "    {'employee_name': 'Susan', 'salary': 100000.0,\n",
    "     'state_code': 'WA'},\n",
    "    {'employee_name': 'Ellen', 'salary': 75000.0,\n",
    "     'state_code': 'TX'},\n",
    "]\n",
    "for rec in input_data:\n",
    "    update_employee_record(rec)\n",
    "    name = rec['employee_name']\n",
    "    salary = rec['salary']\n",
    "    state = rec['state_name']\n",
    "    print (name + ' now lives in ' + state);\n",
    "    print ('   and makes $' + str(salary));"
   ]
  },
  {
   "cell_type": "code",
   "execution_count": 9,
   "metadata": {},
   "outputs": [
    {
     "name": "stdout",
     "output_type": "stream",
     "text": [
      "1\n",
      "the value for  one  is  1\n",
      "the value for  two  is  2\n"
     ]
    }
   ],
   "source": [
    "pairs = [(\"one\",1), (\"two\",2)]\n",
    "as_dict = dict(pairs)\n",
    "same_as_pairs = as_dict.items()\n",
    "print(as_dict[\"one\"])\n",
    "\n",
    "for key, value in as_dict.items():\n",
    " print (\"the value for \", key, \" is \", value);"
   ]
  },
  {
   "cell_type": "code",
   "execution_count": 7,
   "metadata": {
    "collapsed": true
   },
   "outputs": [],
   "source": [
    "sqr = lambda x : x*x\n",
    "five_sqrd = sqr(5)"
   ]
  },
  {
   "cell_type": "code",
   "execution_count": 8,
   "metadata": {
    "collapsed": true
   },
   "outputs": [],
   "source": [
    "def apply_to_evens(a_list, a_func):\n",
    " return [a_func(x) for x in a_list if x%2==0]\n",
    "my_list = [1,2,3,4,5]\n",
    "sqrs_of_evens = apply_to_evens(my_list, lambda x:x*x)"
   ]
  },
  {
   "cell_type": "code",
   "execution_count": 12,
   "metadata": {},
   "outputs": [
    {
     "name": "stdout",
     "output_type": "stream",
     "text": [
      "There were < 10 lines\n"
     ]
    }
   ],
   "source": [
    "try:\n",
    "    lines = input_text.split(\"\\n\")\n",
    "    print (\"tenth line was: \", lines[9]);\n",
    "except:\n",
    "    print (\"There were < 10 lines\");"
   ]
  },
  {
   "cell_type": "code",
   "execution_count": 16,
   "metadata": {},
   "outputs": [
    {
     "name": "stdout",
     "output_type": "stream",
     "text": [
      "bark bark!!\n"
     ]
    }
   ],
   "source": [
    "class Dog:\n",
    " def __init__(self, name):\n",
    "   self.name = name\n",
    " def respond_to_command(self, command):\n",
    "   if command == self.name: self.speak()\n",
    " def speak(self):\n",
    "   print (\"bark bark!!\");\n",
    "fido = Dog(\"fido\")\n",
    "fido.respond_to_command(\"spot\") # does nothing \n",
    "fido.respond_to_command(\"fido\")"
   ]
  },
  {
   "cell_type": "code",
   "execution_count": 19,
   "metadata": {
    "collapsed": true
   },
   "outputs": [],
   "source": [
    "import pandas as pd\n",
    "# Making data frame from a dictionary\n",
    "# that maps column names to their values\n",
    "df = pd.DataFrame({\n",
    "  \"name\": [\"Bob\", \"Alex\", \"Janice\"],\n",
    "  \"age\": [60, 25, 33]\n",
    "  })\n",
    "# Reading a DataFrame from a file\n",
    "#other_df = pd.read_csv(“myfile.csv”)\n",
    "# Making new columns from old ones\n",
    "# is really easy\n",
    "df[\"age_plus_one\"] = df[\"age\"] + 1;\n",
    "df[\"age_times_two\"] = 2 * df[\"age\"]; \n",
    "df[\"age_squared\"] = df[\"age\"] * df[\"age\"]; \n",
    "df[\"over_30\"] = (df[\"age\"] > 30); # this col is bools\n",
    "# The columns have various built-in aggregate functions\n",
    "total_age = df[\"age\"].sum()\n",
    "median_age = df[\"age\"].quantile(0.5)\n",
    "# You can select several rows of the DataFrame\n",
    "# and make a new DataFrame out of them\n",
    "df_below50 = df[df[\"age\"] < 50]\n",
    "# Apply a custom function to a column\n",
    "df[\"age_squared\"] = df[\"age\"].apply(lambda x: x*x)"
   ]
  },
  {
   "cell_type": "code",
   "execution_count": 21,
   "metadata": {},
   "outputs": [
    {
     "name": "stdout",
     "output_type": "stream",
     "text": [
      "   age    name  age_plus_one  age_times_two  age_squared  over_30\n",
      "0   60     Bob            61            120         3600     True\n",
      "1   25    Alex            26             50          625    False\n",
      "2   33  Janice            34             66         1089     True\n"
     ]
    }
   ],
   "source": [
    "print(df)"
   ]
  },
  {
   "cell_type": "code",
   "execution_count": 27,
   "metadata": {},
   "outputs": [
    {
     "name": "stdout",
     "output_type": "stream",
     "text": [
      "Index(['Bob', 'Alex', 'Janice'], dtype='object', name='name')\n",
      "        age  age_plus_one  age_times_two  age_squared  over_30\n",
      "name                                                          \n",
      "Bob      60            61            120         3600     True\n",
      "Alex     25            26             50          625    False\n",
      "Janice   33            34             66         1089     True\n",
      "age                60\n",
      "age_plus_one       61\n",
      "age_times_two     120\n",
      "age_squared      3600\n",
      "over_30          True\n",
      "Name: Bob, dtype: object\n"
     ]
    }
   ],
   "source": [
    "# Create a DataFrame containing the same data,\n",
    "# but where name is the index\n",
    "df_w_name_as_ind = df.set_index(\"name\");\n",
    "print (df_w_name_as_ind.index); # prints their names\n",
    "print(df_w_name_as_ind);\n",
    "# Get the row for Bob\n",
    "bobs_row = df_w_name_as_ind.loc[\"Bob\"]; \n",
    "print (bobs_row); # prints 60"
   ]
  },
  {
   "cell_type": "code",
   "execution_count": null,
   "metadata": {
    "collapsed": true
   },
   "outputs": [],
   "source": [
    ">>> import pandas as pd\n",
    ">>> s = pd.Series([1,2,3])  # make Series from list\n",
    ">>>\n",
    ">>> # display the values in s\n",
    ">>> # note index is to the far left\n",
    ">>> s\n"
   ]
  },
  {
   "cell_type": "code",
   "execution_count": 28,
   "metadata": {},
   "outputs": [
    {
     "name": "stdout",
     "output_type": "stream",
     "text": [
      "        age  height\n",
      "name               \n",
      "Tom      60     6.2\n",
      "Tyrell   25     4.0\n",
      "Claire   33     5.5\n"
     ]
    }
   ],
   "source": [
    "df_w_age = pd.DataFrame({\n",
    "  \"name\": [\"Tom\", \"Tyrell\", \"Claire\"],\n",
    "  \"age\": [60, 25, 33]\n",
    "  })\n",
    "df_w_height = pd.DataFrame({\n",
    "  \"name\": [\"Tom\", \"Tyrell\", \"Claire\"],\n",
    "  \"height\": [6.2, 4.0, 5.5]\n",
    "  });\n",
    "joined = df_w_age.set_index(\"name\").join(\n",
    "            df_w_height.set_index(\"name\"));\n",
    "print (joined);"
   ]
  },
  {
   "cell_type": "code",
   "execution_count": 29,
   "metadata": {},
   "outputs": [
    {
     "name": "stdout",
     "output_type": "stream",
     "text": [
      "         age  height\n",
      "gender              \n",
      "F       33.0     5.5\n",
      "M       42.5     5.1\n",
      "        mean_height    name  oldest\n",
      "gender                             \n",
      "F               5.5  Claire      33\n",
      "M               5.1  Tyrell      60\n"
     ]
    }
   ],
   "source": [
    "df = pd.DataFrame({\n",
    "  \"name\": [\"Tom\", \"Tyrell\", \"Claire\"],\n",
    "  \"age\": [60, 25, 33],\n",
    "    \"height\": [6.2, 4.0, 5.5],\n",
    "    \"gender\": [\"M\", \"M\", \"F\"]\n",
    "     })\n",
    "print (df.groupby(\"gender\").mean())\n",
    "medians = df.groupby(\"gender\").quantile(0.5)\n",
    "def agg(ddf):\n",
    "           return pd.Series({\n",
    "               \"name\": max(ddf[\"name\"]),\n",
    "               \"oldest\": max(ddf[\"age\"]),\n",
    "               \"mean_height\": ddf[\"height\"].mean()\n",
    "                 })\n",
    "print (df.groupby(\"gender\").apply(agg))"
   ]
  },
  {
   "cell_type": "code",
   "execution_count": null,
   "metadata": {
    "collapsed": true
   },
   "outputs": [],
   "source": []
  }
 ],
 "metadata": {
  "kernelspec": {
   "display_name": "Python 3",
   "language": "python",
   "name": "python3"
  },
  "language_info": {
   "codemirror_mode": {
    "name": "ipython",
    "version": 3
   },
   "file_extension": ".py",
   "mimetype": "text/x-python",
   "name": "python",
   "nbconvert_exporter": "python",
   "pygments_lexer": "ipython3",
   "version": "3.6.3"
  }
 },
 "nbformat": 4,
 "nbformat_minor": 2
}
