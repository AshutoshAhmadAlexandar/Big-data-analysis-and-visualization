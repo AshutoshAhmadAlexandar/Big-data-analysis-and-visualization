{
 "cells": [
  {
   "cell_type": "code",
   "execution_count": 3,
   "metadata": {},
   "outputs": [
    {
     "name": "stdout",
     "output_type": "stream",
     "text": [
      "ABC\n",
      "ABC\t\n",
      "BC\n"
     ]
    }
   ],
   "source": [
    "print(\"ABC\\t\".strip());\n",
    "print(\"  ABC\\t\".lstrip());\n",
    "print(\"ABC\".strip(\"A\"));"
   ]
  },
  {
   "cell_type": "code",
   "execution_count": 7,
   "metadata": {},
   "outputs": [
    {
     "name": "stdout",
     "output_type": "stream",
     "text": [
      "abcÿ\n",
      "abc\n"
     ]
    }
   ],
   "source": [
    "s = \"abc\\xFF\"\n",
    "print(s)\n",
    "s = s.encode().decode(\"ascii\", \"ignore\")\n",
    "print(s)"
   ]
  },
  {
   "cell_type": "code",
   "execution_count": 8,
   "metadata": {},
   "outputs": [
    {
     "data": {
      "text/plain": [
       "datetime.datetime(2013, 8, 13, 4, 15)"
      ]
     },
     "execution_count": 8,
     "metadata": {},
     "output_type": "execute_result"
    }
   ],
   "source": [
    "import dateutil.parser as p\n",
    "p.parse(\"August 13, 1985\")\n",
    "p.parse(\"2013-8-13\")\n",
    "p.parse(\"2013-8-13 4:15am\")"
   ]
  },
  {
   "cell_type": "code",
   "execution_count": 2,
   "metadata": {},
   "outputs": [
    {
     "name": "stdout",
     "output_type": "stream",
     "text": [
      "['6', '5']\n",
      "['7', '4', ' ', 'Y', 'e', 'a', 'r', 's']\n",
      "['6', '6', 'y', 'o']\n",
      "                Name  Age   Birthdate First Name Last Name\n",
      "0  Ms. Janice Joplin   65  1943-01-19     Janice    Joplin\n",
      "1         Bob Dylan    74  1941-03-24        Bob     Dylan\n",
      "2     Billy Ray Joel   66  1941-02-09      Billy      Joel\n"
     ]
    }
   ],
   "source": [
    "def get_first_last_name(s):\n",
    "    INVALID_NAME_PARTS = [\"mr\", \"ms\", \"mrs\",\n",
    "        \"dr\", \"jr\", \"sir\"]\n",
    "    parts = s.lower().replace(\".\",\"\").strip().split()\n",
    "    parts = [p for p in parts\n",
    "        if p not in INVALID_NAME_PARTS]\n",
    "    if len(parts)==0:\n",
    "        raise ValueError(\n",
    "             \"Name %s is formatted wrong\" % s)\n",
    "    first, last = parts[0], parts[-1]\n",
    "    first = first[0].upper() + first[1:]\n",
    "    last = last[0].upper() + last[1:]\n",
    "    return first, last\n",
    "def format_age(s):\n",
    "    #print(s)\n",
    "    chars = list(s) # list of characters\n",
    "    print (chars)\n",
    "    digit_chars = [c for c in chars if c.isdigit()]\n",
    "    return int(\"\".join(digit_chars))\n",
    "def format_date(s):\n",
    "    MONTH_MAP = {\"jan\": \"01\", \"feb\": \"02\", \"may\": \"03\"}\n",
    "    s = s.strip().lower().replace(\",\", \"\")\n",
    "    m, d, y = s.split()\n",
    "    if len(y) == 2: y = \"19\" + y\n",
    "    if len(d) == 1: d = \"0\" + d\n",
    "    return y + \"-\" + MONTH_MAP[m[:3]] + \"-\" + d\n",
    "import pandas as pd\n",
    "df = pd.read_csv(\"chap4.tsv\", sep=\"|\")\n",
    "df[\"First Name\"] = df[\"Name\"].apply(\n",
    "    lambda s: get_first_last_name(s)[0])\n",
    "df[\"Last Name\"] = df[\"Name\"].apply(\n",
    "    lambda s: get_first_last_name(s)[1])\n",
    "df[\"Age\"] = df[\"Age\"].apply(format_age)\n",
    "df[\"Birthdate\"] = df[\"Birthdate\"].apply(\n",
    "    format_date).astype(pd.datetime)\n",
    "print (df)"
   ]
  },
  {
   "cell_type": "code",
   "execution_count": 3,
   "metadata": {},
   "outputs": [
    {
     "name": "stdout",
     "output_type": "stream",
     "text": [
      "1 Pennsylvania Ave.\n",
      "Buffalo, NY, 14214\n",
      "<_sre.SRE_Match object; span=(0, 19), match='1 Pennsylvania Ave.'>\n",
      "<_sre.SRE_Match object; span=(0, 18), match='Buffalo, NY, 14214'>\n",
      "^[0-9]*\\s[A-Z][a-z]*\\s(Street|St|Rd|Road|Ave|Avenue|Blvd|Way|Wy)\\.?\\n[A-Z][a-z]*,\\s[A-Z]{2},\\s[0-9]{5}$\n",
      "<_sre.SRE_Match object; span=(0, 38), match='1 Pennsylvania Ave.\\nBuffalo, NY, 14214'>\n"
     ]
    }
   ],
   "source": [
    "import re\n",
    "street_pattern = r\"^[0-9]*\\s[A-Z][a-z]*\" + \\\n",
    "    r\"\\s(Street|St|Rd|Road|Ave|Avenue|Blvd|Way|Wy)\\.?$\"\n",
    "city_pattern = r\"[A-Z][a-z]*,\\s[A-Z]{2},\\s[0-9]{5}$\"\n",
    "address_pattern = r\"^[0-9]*\\s[A-Z][a-z]*\" + \\\n",
    "    r\"\\s(Street|St|Rd|Road|Ave|Avenue|Blvd|Way|Wy)\\.?\" + r\"\\n\" + city_pattern\n",
    "address_re = re.compile(address_pattern)\n",
    "city_re = re.compile(city_pattern)\n",
    "street_re = re.compile(street_pattern)\n",
    "address = \"\"\"1 Pennsylvania Ave.\n",
    "Buffalo, NY, 14214\"\"\"\n",
    "print(address)\n",
    "matchStreet = re.match(street_re, \"1 Pennsylvania Ave.\")\n",
    "matchCity = re.match(city_re,\"Buffalo, NY, 14214\")\n",
    "matches = re.match(address_re, address)\n",
    "print(matchStreet)\n",
    "print(matchCity)\n",
    "print(address_pattern)\n",
    "print(matches)"
   ]
  },
  {
   "cell_type": "code",
   "execution_count": null,
   "metadata": {
    "collapsed": true
   },
   "outputs": [],
   "source": []
  }
 ],
 "metadata": {
  "kernelspec": {
   "display_name": "Python 3",
   "language": "python",
   "name": "python3"
  },
  "language_info": {
   "codemirror_mode": {
    "name": "ipython",
    "version": 3
   },
   "file_extension": ".py",
   "mimetype": "text/x-python",
   "name": "python",
   "nbconvert_exporter": "python",
   "pygments_lexer": "ipython3",
   "version": "3.6.3"
  }
 },
 "nbformat": 4,
 "nbformat_minor": 2
}
